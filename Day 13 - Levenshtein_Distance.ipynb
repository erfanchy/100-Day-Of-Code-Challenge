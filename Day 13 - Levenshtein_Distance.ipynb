{
 "cells": [
  {
   "cell_type": "code",
   "execution_count": 12,
   "id": "about-leisure",
   "metadata": {},
   "outputs": [
    {
     "name": "stdout",
     "output_type": "stream",
     "text": [
      "Minimum number of edits required is :  2\n"
     ]
    }
   ],
   "source": [
    "#Time O(nm) \n",
    "#Space O(nm)\n",
    "\n",
    "def levenshtein_distance(string1 , string2) : \n",
    "\n",
    "    table = [[col for col in range(len(string2) +1)]  for row in range(len(string1)+1)] \n",
    "\n",
    "\n",
    "    for row in range(1,len(string1)+1) : \n",
    "\n",
    "        table[row][0] = table[row-1][0] + 1 \n",
    "\n",
    "\n",
    "    for i in range(1,len(string1)+1 )  : \n",
    "\n",
    "        for j in range(1,len(string2) +1) : \n",
    "\n",
    "            if string1[i-1] == string2[j-1] : \n",
    "\n",
    "                table[i][j] = table[i-1][j-1] \n",
    "\n",
    "            else : \n",
    "\n",
    "                table[i][j] = 1 + min (table[i-1][j-1], table[i][j-1] , table[i-1][j]) \n",
    "\n",
    "    return table[-1][-1]\n",
    "\n",
    "\n",
    "\n",
    "if __name__==\"__main__\": \n",
    "\n",
    "    string1 = \"abc\"\n",
    "\n",
    "    string2 = \"yabd\" \n",
    "\n",
    "    minimum_number_of_edits_required = levenshtein_distance(string1,string2) \n",
    "\n",
    "    print(\"Minimum number of edits required is : \", minimum_number_of_edits_required) \n",
    "\n"
   ]
  },
  {
   "cell_type": "code",
   "execution_count": null,
   "id": "minor-thermal",
   "metadata": {},
   "outputs": [],
   "source": []
  }
 ],
 "metadata": {
  "kernelspec": {
   "display_name": "Python 3",
   "language": "python",
   "name": "python3"
  },
  "language_info": {
   "codemirror_mode": {
    "name": "ipython",
    "version": 3
   },
   "file_extension": ".py",
   "mimetype": "text/x-python",
   "name": "python",
   "nbconvert_exporter": "python",
   "pygments_lexer": "ipython3",
   "version": "3.7.9"
  }
 },
 "nbformat": 4,
 "nbformat_minor": 5
}
