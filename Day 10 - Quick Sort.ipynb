{
 "cells": [
  {
   "cell_type": "code",
   "execution_count": 4,
   "id": "missing-burden",
   "metadata": {},
   "outputs": [],
   "source": [
    "#Average Case \n",
    "#Time O(nlogn)\n",
    "#Space O(logn) \n",
    "\n",
    "def quick_sort(array) : \n",
    "    \n",
    "    quicksorthelper(array,0,len(array)-1)\n",
    "    \n",
    "    return array \n",
    "\n",
    "\n",
    "def quicksorthelper(array,startidx,endidx) : \n",
    "    \n",
    "    if startidx >= endidx : \n",
    "        \n",
    "        return \n",
    "    \n",
    "    pivotidx = startidx\n",
    "    leftidx = startidx+1 \n",
    "    rightidx = endidx \n",
    "    \n",
    "    while leftidx <= rightidx : \n",
    "        \n",
    "        if array[leftidx] > array[pivotidx] and array[rightidx] < array[pivotidx] :\n",
    "            \n",
    "            swap(leftidx,rightidx,array)\n",
    "        \n",
    "\n",
    "        if array[leftidx] <= array[pivotidx] :\n",
    "            \n",
    "            leftidx+=1 \n",
    "            \n",
    "        if array[rightidx] >= array[pivotidx] :\n",
    "            \n",
    "            rightidx -= 1 \n",
    "            \n",
    "    swap(pivotidx,rightidx,array)\n",
    "    \n",
    "    lenofsmalletarray = rightidx - 1 - startidx < endidx - (rightidx + 1)\n",
    "    \n",
    "    if lenofsmalletarray : \n",
    "            \n",
    "            quicksorthelper(array,startidx,rightidx-1)\n",
    "            quicksorthelper(array,rightidx+1,endidx)\n",
    "            \n",
    "    else : \n",
    "            quicksorthelper(array,rightidx+1,endidx)\n",
    "            quicksorthelper(array,startidx,rightidx-1)\n",
    "            \n",
    "            \n",
    "        \n",
    "            \n",
    "def swap(i,j,array) : \n",
    "    \n",
    "    array[i],array[j] = array[j],array[i]\n",
    "    "
   ]
  },
  {
   "cell_type": "code",
   "execution_count": 5,
   "id": "clinical-margin",
   "metadata": {},
   "outputs": [
    {
     "name": "stdout",
     "output_type": "stream",
     "text": [
      "[-1000, -101, -60, -1, 0, 6, 9, 10, 11, 100]\n"
     ]
    }
   ],
   "source": [
    "if __name__=='__main__' :\n",
    "    \n",
    "    array = [-1,0,-60,100,-101,-1000,6,10,9,11]\n",
    "    \n",
    "    sorted_array = quick_sort(array) \n",
    "    \n",
    "    print(sorted_array)"
   ]
  },
  {
   "cell_type": "code",
   "execution_count": null,
   "id": "considerable-marijuana",
   "metadata": {},
   "outputs": [],
   "source": []
  },
  {
   "cell_type": "code",
   "execution_count": null,
   "id": "cheap-pavilion",
   "metadata": {},
   "outputs": [],
   "source": []
  }
 ],
 "metadata": {
  "kernelspec": {
   "display_name": "Python 3",
   "language": "python",
   "name": "python3"
  },
  "language_info": {
   "codemirror_mode": {
    "name": "ipython",
    "version": 3
   },
   "file_extension": ".py",
   "mimetype": "text/x-python",
   "name": "python",
   "nbconvert_exporter": "python",
   "pygments_lexer": "ipython3",
   "version": "3.7.9"
  }
 },
 "nbformat": 4,
 "nbformat_minor": 5
}
