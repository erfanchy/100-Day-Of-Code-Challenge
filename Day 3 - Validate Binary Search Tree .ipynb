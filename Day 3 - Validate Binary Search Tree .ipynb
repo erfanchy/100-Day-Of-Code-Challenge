{
 "cells": [
  {
   "cell_type": "code",
   "execution_count": 15,
   "id": "nervous-integral",
   "metadata": {},
   "outputs": [],
   "source": [
    "class Node  : \n",
    "    \n",
    "    def __init__(self,value) : \n",
    "        \n",
    "        self.value = value \n",
    "        self.left = None \n",
    "        self.right = None \n",
    "        \n",
    "        \n",
    "def validate_bst(root) : \n",
    "    \n",
    "    \n",
    "    return validate_bst_helper(root,float(\"-inf\"),float(\"+inf\")) \n",
    "\n",
    "def validate_bst_helper(root,minimum,maximum) : \n",
    "    \n",
    "    if root is None : \n",
    "        \n",
    "        return True\n",
    "    \n",
    "    if root.value >= maximum or root.value < minimum : \n",
    "        \n",
    "        return False \n",
    "    \n",
    "    \n",
    "    return validate_bst_helper(root.left,minimum,root.value) and validate_bst_helper(root.right,root.value,maximum)\n",
    "    \n",
    "    \n",
    "    \n",
    "    \n",
    "    \n",
    "    \n"
   ]
  },
  {
   "cell_type": "code",
   "execution_count": 16,
   "id": "mexican-falls",
   "metadata": {},
   "outputs": [
    {
     "name": "stdout",
     "output_type": "stream",
     "text": [
      "True\n",
      "False\n"
     ]
    }
   ],
   "source": [
    "if __name__==\"__main__\" : \n",
    "    \n",
    "    \n",
    "    #Case 1 : BST\n",
    "    \n",
    "    root = Node(10)\n",
    "    root.left = Node(5)\n",
    "    root.left.right = Node(5)\n",
    "    root.left.left = Node(3)\n",
    "    root.left.left.left = Node(1)\n",
    "    \n",
    "    root.right = Node(15)\n",
    "    root.right.left = Node(13)\n",
    "    root.right.right = Node(22)\n",
    "    root.right.left.right = Node(14)\n",
    "    \n",
    "    #Case 2 : Not a BST \n",
    "    \n",
    "    root2 = Node(10)\n",
    "    root2.left = Node(5)\n",
    "    root2.left.right = Node(950)\n",
    "    root2.left.left = Node(3)\n",
    "    root2.left.left.left = Node(1)\n",
    "    \n",
    "    root2.right = Node(15)\n",
    "    root2.right.left = Node(13)\n",
    "    root2.right.right = Node(22)\n",
    "    root2.right.left.right = Node(14)\n",
    "    \n",
    "    \n",
    "    \n",
    "    true_or_false = validate_bst(root) \n",
    "    true_or_false_2 = validate_bst(root2)\n",
    "    \n",
    "    \n",
    "    print(true_or_false)\n",
    "    \n",
    "    print(true_or_false_2)    "
   ]
  },
  {
   "cell_type": "code",
   "execution_count": null,
   "id": "martial-polish",
   "metadata": {},
   "outputs": [],
   "source": []
  }
 ],
 "metadata": {
  "kernelspec": {
   "display_name": "Python 3",
   "language": "python",
   "name": "python3"
  },
  "language_info": {
   "codemirror_mode": {
    "name": "ipython",
    "version": 3
   },
   "file_extension": ".py",
   "mimetype": "text/x-python",
   "name": "python",
   "nbconvert_exporter": "python",
   "pygments_lexer": "ipython3",
   "version": "3.7.9"
  }
 },
 "nbformat": 4,
 "nbformat_minor": 5
}
