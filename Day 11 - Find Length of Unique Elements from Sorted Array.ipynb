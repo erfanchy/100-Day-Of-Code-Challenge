{
 "cells": [
  {
   "cell_type": "markdown",
   "id": "collected-covering",
   "metadata": {},
   "source": [
    "# Naive Solution"
   ]
  },
  {
   "cell_type": "code",
   "execution_count": 1,
   "id": "crucial-summer",
   "metadata": {},
   "outputs": [],
   "source": [
    "#Time O(n) \n",
    "#Space O(n)\n",
    "def find_length(array) : \n",
    "    \n",
    "    hashtable = {} \n",
    "    \n",
    "    for i in array : \n",
    "        \n",
    "        if i in hashtable : \n",
    "            \n",
    "            hashtable[i] += 1\n",
    "            \n",
    "        else : \n",
    "            \n",
    "            hashtable[i] = 0 \n",
    "            \n",
    "            \n",
    "    return len(hashtable)\n",
    "            \n",
    "            \n",
    "    "
   ]
  },
  {
   "cell_type": "markdown",
   "id": "brazilian-elephant",
   "metadata": {},
   "source": [
    "# Optimal Solution"
   ]
  },
  {
   "cell_type": "code",
   "execution_count": 13,
   "id": "settled-velvet",
   "metadata": {},
   "outputs": [],
   "source": [
    "#Time O(n) \n",
    "#Space O(1) \n",
    "\n",
    "\n",
    "def find_length_optimal(array) :\n",
    "    \n",
    "    j = 1\n",
    "    \n",
    "    for i in range(1,len(array)) : \n",
    "        \n",
    "        if array[i-1] == array[i] : \n",
    "            \n",
    "            continue \n",
    "            \n",
    "        else : \n",
    "            array[j] = array[i]\n",
    "            j+=1\n",
    "            \n",
    "    return j\n",
    "        \n",
    "        "
   ]
  },
  {
   "cell_type": "code",
   "execution_count": 14,
   "id": "adverse-handbook",
   "metadata": {},
   "outputs": [
    {
     "name": "stdout",
     "output_type": "stream",
     "text": [
      "5\n",
      "5\n"
     ]
    }
   ],
   "source": [
    "if __name__==\"__main__\" : \n",
    "    \n",
    "    array = [0,0,1,1,1,2,2,3,3,4]\n",
    "    \n",
    "    length = find_length(array) \n",
    "    \n",
    "    print(length)\n",
    "    \n",
    "    length_opt = find_length_optimal(array) \n",
    "    \n",
    "    print(length_opt)\n",
    "    \n",
    "    "
   ]
  },
  {
   "cell_type": "code",
   "execution_count": null,
   "id": "korean-cisco",
   "metadata": {},
   "outputs": [],
   "source": []
  },
  {
   "cell_type": "code",
   "execution_count": null,
   "id": "designing-retreat",
   "metadata": {},
   "outputs": [],
   "source": []
  }
 ],
 "metadata": {
  "kernelspec": {
   "display_name": "Python 3",
   "language": "python",
   "name": "python3"
  },
  "language_info": {
   "codemirror_mode": {
    "name": "ipython",
    "version": 3
   },
   "file_extension": ".py",
   "mimetype": "text/x-python",
   "name": "python",
   "nbconvert_exporter": "python",
   "pygments_lexer": "ipython3",
   "version": "3.7.9"
  }
 },
 "nbformat": 4,
 "nbformat_minor": 5
}
