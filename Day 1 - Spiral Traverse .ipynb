{
 "cells": [
  {
   "cell_type": "code",
   "execution_count": 1,
   "metadata": {},
   "outputs": [],
   "source": [
    "# Time Complexity : O(n * m ) \n",
    "#Space Complexity : O(n * m )\n",
    "\n",
    "def spiral_traverse(matrix) : \n",
    "    \n",
    "    \n",
    "    result = [] \n",
    "    \n",
    "    startrow,endrow = 0 , len(matrix) - 1 \n",
    "    \n",
    "    startcol , endcol = 0 , len(matrix[0]) - 1 \n",
    "    \n",
    "    while startrow <=endrow and startcol<=endcol : \n",
    "        \n",
    "        \n",
    "        for col in range(startcol, endcol + 1) : \n",
    "            \n",
    "            result.append(matrix[startrow][col])\n",
    "            \n",
    "        for row in range(startrow+1 , endrow + 1 )  : \n",
    "            \n",
    "            result.append(matrix[row][endcol])\n",
    "    \n",
    "        for col in reversed(range(startcol,endcol)) : \n",
    "            \n",
    "            #Edge Case\n",
    "            \n",
    "            # Think about 4 x 3 shape matrix \n",
    "            \n",
    "            if startrow == endrow : \n",
    "                \n",
    "                break \n",
    "            \n",
    "            result.append(matrix[endrow][col])\n",
    "            \n",
    "        for row in reversed(range(startrow+1,endrow)) :\n",
    "            \n",
    "            #Edge Case \n",
    "            \n",
    "            # Think about 3 x 4 shape matrix \n",
    "            \n",
    "            if startcol == endcol : \n",
    "                break \n",
    "                \n",
    "            result.append(matrix[row][startcol])\n",
    "            \n",
    "        startrow+=1 \n",
    "        endrow -= 1\n",
    "        startcol +=1 \n",
    "        endcol -= 1 \n",
    "    \n",
    "    return result "
   ]
  },
  {
   "cell_type": "code",
   "execution_count": 2,
   "metadata": {},
   "outputs": [
    {
     "name": "stdout",
     "output_type": "stream",
     "text": [
      "[1, 2, 3, 4, 5, 6, 7, 8, 9, 10, 11, 12, 13, 14, 15, 16]\n"
     ]
    }
   ],
   "source": [
    "if __name__==\"__main__\" : \n",
    "    \n",
    "    matrix = [[1,2,3,4],[12,13,14,5],[11,16,15,6],[10,9,8,7]]\n",
    "    \n",
    "    answer = spiral_traverse(matrix)\n",
    "    \n",
    "    print(answer)"
   ]
  },
  {
   "cell_type": "code",
   "execution_count": null,
   "metadata": {},
   "outputs": [],
   "source": []
  }
 ],
 "metadata": {
  "kernelspec": {
   "display_name": "Python 3",
   "language": "python",
   "name": "python3"
  },
  "language_info": {
   "codemirror_mode": {
    "name": "ipython",
    "version": 3
   },
   "file_extension": ".py",
   "mimetype": "text/x-python",
   "name": "python",
   "nbconvert_exporter": "python",
   "pygments_lexer": "ipython3",
   "version": "3.8.5"
  }
 },
 "nbformat": 4,
 "nbformat_minor": 4
}
