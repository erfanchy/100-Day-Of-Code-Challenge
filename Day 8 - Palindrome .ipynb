{
 "cells": [
  {
   "cell_type": "markdown",
   "id": "extreme-racing",
   "metadata": {},
   "source": [
    "# Naive Solution"
   ]
  },
  {
   "cell_type": "code",
   "execution_count": 6,
   "id": "alternate-alcohol",
   "metadata": {},
   "outputs": [],
   "source": [
    "#Time O(n)\n",
    "#Space O(n) \n",
    "\n",
    "def is_palindrome(string) : \n",
    "    \n",
    "    empty = [] \n",
    "    \n",
    "    for i in reversed(range(len(string))): \n",
    "        \n",
    "        empty.append(string[i])\n",
    "        \n",
    "    \n",
    "    return string == \"\".join(empty)\n",
    "        \n",
    "        "
   ]
  },
  {
   "cell_type": "markdown",
   "id": "limited-consent",
   "metadata": {},
   "source": [
    "# Recursion"
   ]
  },
  {
   "cell_type": "code",
   "execution_count": 14,
   "id": "gorgeous-martin",
   "metadata": {},
   "outputs": [],
   "source": [
    "#Time O(n) \n",
    "#Space O(n) \n",
    "\n",
    "def is_palindrome_recursion(string,i=0)  : \n",
    "    \n",
    "    j = len(string) - 1 - i \n",
    "    \n",
    "    if i > j : \n",
    "        \n",
    "        return True \n",
    "    \n",
    "    if string[i] != string[j] : \n",
    "        \n",
    "        return False \n",
    "    \n",
    "    return is_palindrome_recursion(string,i+1)\n",
    "    \n",
    "    "
   ]
  },
  {
   "cell_type": "markdown",
   "id": "square-commercial",
   "metadata": {},
   "source": [
    "# Optimal "
   ]
  },
  {
   "cell_type": "code",
   "execution_count": 17,
   "id": "transsexual-fellow",
   "metadata": {},
   "outputs": [],
   "source": [
    "#Time O(n) \n",
    "#Space O(1)\n",
    "\n",
    "def is_palindrome_optimal(string) : \n",
    "    \n",
    "    left = 0 \n",
    "    right = len(string) - 1\n",
    "    \n",
    "    while left <= right : \n",
    "        \n",
    "        if string[left] != string[right] : \n",
    "            \n",
    "            return False \n",
    "        \n",
    "        left+=1 \n",
    "        right -=1 \n",
    "        \n",
    "    return True "
   ]
  },
  {
   "cell_type": "code",
   "execution_count": 18,
   "id": "excessive-bryan",
   "metadata": {},
   "outputs": [
    {
     "name": "stdout",
     "output_type": "stream",
     "text": [
      "True\n",
      "False\n",
      "True\n",
      "False\n",
      "True\n",
      "False\n"
     ]
    }
   ],
   "source": [
    "if __name__==\"__main__\" : \n",
    "    \n",
    "    palindrome_string = \"abcdcba\"\n",
    "    \n",
    "    not_a_palindrome_string = \"abcedbca\"\n",
    "    \n",
    "    naive_solution = is_palindrome(palindrome_string) \n",
    "    print(naive_solution)\n",
    "    \n",
    "    naive_solution = is_palindrome(not_a_palindrome_string) \n",
    "    print(naive_solution)\n",
    "    \n",
    "    recursion_solution = is_palindrome_recursion(palindrome_string)\n",
    "    print(recursion_solution)\n",
    "    \n",
    "    recursion_solution = is_palindrome_recursion(not_a_palindrome_string)\n",
    "    print(recursion_solution)\n",
    "    \n",
    "    optimal_solution = is_palindrome_optimal(palindrome_string) \n",
    "    print(optimal_solution)\n",
    "    \n",
    "    optimal_solution = is_palindrome_optimal(not_a_palindrome_string) \n",
    "    print(optimal_solution)\n",
    "    \n",
    "    "
   ]
  },
  {
   "cell_type": "code",
   "execution_count": null,
   "id": "reserved-purchase",
   "metadata": {},
   "outputs": [],
   "source": []
  },
  {
   "cell_type": "code",
   "execution_count": null,
   "id": "tamil-freight",
   "metadata": {},
   "outputs": [],
   "source": []
  }
 ],
 "metadata": {
  "kernelspec": {
   "display_name": "Python 3",
   "language": "python",
   "name": "python3"
  },
  "language_info": {
   "codemirror_mode": {
    "name": "ipython",
    "version": 3
   },
   "file_extension": ".py",
   "mimetype": "text/x-python",
   "name": "python",
   "nbconvert_exporter": "python",
   "pygments_lexer": "ipython3",
   "version": "3.7.9"
  }
 },
 "nbformat": 4,
 "nbformat_minor": 5
}
