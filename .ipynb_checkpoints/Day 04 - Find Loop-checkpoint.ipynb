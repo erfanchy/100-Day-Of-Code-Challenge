{
 "cells": [
  {
   "cell_type": "code",
   "execution_count": 1,
   "id": "posted-hazard",
   "metadata": {},
   "outputs": [],
   "source": [
    "#Time | O(n) \n",
    "#Space | O(1)\n",
    "\n",
    "class Node : \n",
    "    \n",
    "    def __init__(self,value) : \n",
    "        \n",
    "        self.value = value \n",
    "        self.next = None \n",
    "        \n",
    "        \n",
    "\n",
    "def find_loop(head) : \n",
    "    \n",
    "    first = head.next \n",
    "    second = head.next.next \n",
    "    \n",
    "    while first!=second : \n",
    "        \n",
    "        first = first.next \n",
    "        second = second.next.next \n",
    "        \n",
    "    first = head \n",
    "    \n",
    "    while first!=second : \n",
    "        \n",
    "        first = first.next \n",
    "        second = second.next \n",
    "        \n",
    "        \n",
    "    return first.value "
   ]
  },
  {
   "cell_type": "code",
   "execution_count": 2,
   "id": "elder-water",
   "metadata": {},
   "outputs": [
    {
     "name": "stdout",
     "output_type": "stream",
     "text": [
      "3\n"
     ]
    }
   ],
   "source": [
    "if __name__==\"__main__\" : \n",
    "    \n",
    "    \n",
    "    a = Node(0)\n",
    "    b = Node(1)\n",
    "    c = Node(2)\n",
    "    d = Node(3)\n",
    "    e = Node(4)\n",
    "    f = Node(5)\n",
    "    g = Node(6)\n",
    "    h = Node(7)\n",
    "    i = Node(8)\n",
    "    \n",
    "    \n",
    "    a.next = b \n",
    "    b.next = c \n",
    "    c.next = d \n",
    "    d.next = e \n",
    "    e.next = f \n",
    "    f.next = g\n",
    "    g.next = h \n",
    "    h.next = i \n",
    "    i.next = d\n",
    "    \n",
    "    \n",
    "    linked_list_loops_back_to = find_loop(a) \n",
    "    \n",
    "    print(linked_list_loops_back_to)\n",
    "    \n",
    "    "
   ]
  },
  {
   "cell_type": "code",
   "execution_count": null,
   "id": "worst-foundation",
   "metadata": {},
   "outputs": [],
   "source": []
  }
 ],
 "metadata": {
  "kernelspec": {
   "display_name": "Python 3",
   "language": "python",
   "name": "python3"
  },
  "language_info": {
   "codemirror_mode": {
    "name": "ipython",
    "version": 3
   },
   "file_extension": ".py",
   "mimetype": "text/x-python",
   "name": "python",
   "nbconvert_exporter": "python",
   "pygments_lexer": "ipython3",
   "version": "3.7.9"
  }
 },
 "nbformat": 4,
 "nbformat_minor": 5
}
