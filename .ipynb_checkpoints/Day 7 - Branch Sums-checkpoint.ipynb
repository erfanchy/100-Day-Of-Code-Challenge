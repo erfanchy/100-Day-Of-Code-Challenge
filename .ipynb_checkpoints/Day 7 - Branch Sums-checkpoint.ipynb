{
 "cells": [
  {
   "cell_type": "code",
   "execution_count": 21,
   "id": "democratic-convert",
   "metadata": {},
   "outputs": [],
   "source": [
    "#Time  O(n)\n",
    "#Space O(n)\n",
    "\n",
    "class Node : \n",
    "    \n",
    "    def __init__(self,value) : \n",
    "        \n",
    "        self.value = value \n",
    "        self.left = None \n",
    "        self.right = None \n",
    "        \n",
    "        \n",
    "def branchsums(root) : \n",
    "    \n",
    "    result = [] \n",
    "    summation = 0 \n",
    "    branchsumhelper(root,summation,result) \n",
    "    return result\n",
    "\n",
    "def branchsumhelper(root,summation,result) : \n",
    "    \n",
    "    if root is None : \n",
    "        return \n",
    "    \n",
    "    summation += root.value \n",
    "    \n",
    "    if root.left is None and root.right is None : \n",
    "        result.append(summation)\n",
    "    \n",
    "    branchsumhelper(root.left,summation,result)\n",
    "    branchsumhelper(root.right,summation,result)\n",
    "    \n",
    "    return result \n",
    "    \n",
    "    "
   ]
  },
  {
   "cell_type": "code",
   "execution_count": 22,
   "id": "fossil-advancement",
   "metadata": {},
   "outputs": [
    {
     "name": "stdout",
     "output_type": "stream",
     "text": [
      "[15, 16, 8, 10, 11]\n"
     ]
    }
   ],
   "source": [
    "if __name__==\"__main__\" : \n",
    "    \n",
    "    root = Node(1)\n",
    "    root.left = Node(2)\n",
    "    root.right = Node(3) \n",
    "    root.left.left = Node(4)\n",
    "    root.left.left.left = Node(8)\n",
    "    root.left.left.right = Node(9)\n",
    "    root.left.right = Node(5)\n",
    "    root.right.left = Node(6) \n",
    "    root.right.right = Node(7) \n",
    "    \n",
    "    \n",
    "    list_of_branch_sums = branchsums(root) \n",
    "    \n",
    "    print(list_of_branch_sums)"
   ]
  },
  {
   "cell_type": "code",
   "execution_count": null,
   "id": "pleasant-lawrence",
   "metadata": {},
   "outputs": [],
   "source": []
  }
 ],
 "metadata": {
  "kernelspec": {
   "display_name": "Python 3",
   "language": "python",
   "name": "python3"
  },
  "language_info": {
   "codemirror_mode": {
    "name": "ipython",
    "version": 3
   },
   "file_extension": ".py",
   "mimetype": "text/x-python",
   "name": "python",
   "nbconvert_exporter": "python",
   "pygments_lexer": "ipython3",
   "version": "3.7.9"
  }
 },
 "nbformat": 4,
 "nbformat_minor": 5
}
