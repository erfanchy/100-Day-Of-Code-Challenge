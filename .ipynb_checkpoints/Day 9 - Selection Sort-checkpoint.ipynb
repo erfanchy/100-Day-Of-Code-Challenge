{
 "cells": [
  {
   "cell_type": "code",
   "execution_count": 1,
   "id": "atomic-cinema",
   "metadata": {},
   "outputs": [],
   "source": [
    "def selection_sort(array) : \n",
    "    \n",
    "    for current in range(len(array)-1) : \n",
    "        \n",
    "        smallest = current \n",
    "        \n",
    "        for j in range(current+1,len(array)) : \n",
    "            \n",
    "            if array[smallest] > array[j] :\n",
    "                \n",
    "                smallest = j \n",
    "                \n",
    "        swap(current,smallest,array)\n",
    "        \n",
    "    return array \n",
    "\n",
    "\n",
    "def swap(i,j,array) : \n",
    "    \n",
    "    array[i],array[j] = array[j],array[i]\n",
    "                \n",
    "                "
   ]
  },
  {
   "cell_type": "code",
   "execution_count": 2,
   "id": "destroyed-chosen",
   "metadata": {},
   "outputs": [
    {
     "name": "stdout",
     "output_type": "stream",
     "text": [
      "[-1000, -101, -60, -1, 0, 6, 9, 10, 11, 100]\n"
     ]
    }
   ],
   "source": [
    "if __name__=='__main__' :\n",
    "    \n",
    "    array = [-1,0,-60,100,-101,-1000,6,10,9,11]\n",
    "    \n",
    "    sorted_array = selection_sort(array) \n",
    "    \n",
    "    print(sorted_array)"
   ]
  },
  {
   "cell_type": "code",
   "execution_count": null,
   "id": "particular-appearance",
   "metadata": {},
   "outputs": [],
   "source": []
  }
 ],
 "metadata": {
  "kernelspec": {
   "display_name": "Python 3",
   "language": "python",
   "name": "python3"
  },
  "language_info": {
   "codemirror_mode": {
    "name": "ipython",
    "version": 3
   },
   "file_extension": ".py",
   "mimetype": "text/x-python",
   "name": "python",
   "nbconvert_exporter": "python",
   "pygments_lexer": "ipython3",
   "version": "3.7.9"
  }
 },
 "nbformat": 4,
 "nbformat_minor": 5
}
