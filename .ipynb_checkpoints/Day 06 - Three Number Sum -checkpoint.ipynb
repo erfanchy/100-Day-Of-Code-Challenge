{
 "cells": [
  {
   "cell_type": "markdown",
   "id": "turned-penetration",
   "metadata": {},
   "source": [
    "# Distinct Integers In Array"
   ]
  },
  {
   "cell_type": "code",
   "execution_count": 5,
   "id": "toxic-table",
   "metadata": {},
   "outputs": [],
   "source": [
    "#Time | O(n^2)\n",
    "#Space | O(n) \n",
    "\n",
    "def threenumbersum(array,target) : \n",
    "    \n",
    "    array.sort() \n",
    "    \n",
    "    triplets = [] \n",
    "    \n",
    "    for current in range(len(array)-2) : \n",
    "                \n",
    "        left = current + 1  \n",
    "        right = len(array) - 1 \n",
    "        \n",
    "        while left < right : \n",
    "            \n",
    "            currentsum = array[left] + array[right] + array[current] \n",
    "        \n",
    "            if currentsum == target : \n",
    "                \n",
    "                triplets.append([array[current],array[left],array[right]])\n",
    "                left += 1 \n",
    "                right -= 1\n",
    "                \n",
    "            elif currentsum > target : \n",
    "                \n",
    "                right -= 1 \n",
    "                \n",
    "            else : \n",
    "                \n",
    "                left += 1 \n",
    "                \n",
    "                \n",
    "    return triplets \n",
    "    "
   ]
  },
  {
   "cell_type": "markdown",
   "id": "charged-closing",
   "metadata": {},
   "source": [
    "# Repeated Integers In Array"
   ]
  },
  {
   "cell_type": "code",
   "execution_count": 25,
   "id": "structural-lindsay",
   "metadata": {},
   "outputs": [],
   "source": [
    "#Time | O(n^2)\n",
    "#Space | O(n) \n",
    "\n",
    "def repeated_threenumbersum(array,target) : \n",
    "    \n",
    "    array.sort()\n",
    "    \n",
    "    triplets = [] \n",
    "    \n",
    "    for current in range(len(array)-2) : \n",
    "        \n",
    "        if current > 0 and array[current]== array[current-1] : \n",
    "            continue\n",
    "        \n",
    "        left = current + 1 \n",
    "        right = len(array) - 1 \n",
    "        \n",
    "        while left < right : \n",
    "            \n",
    "            currentsum = array[left] + array[current] + array[right]\n",
    "        \n",
    "            if currentsum == target : \n",
    "                \n",
    "                triplets.append([array[current],array[left],array[right]]) \n",
    "                \n",
    "                while left < right and array[left] == array[left+1] : \n",
    "                    \n",
    "                    left+=1 \n",
    "                    \n",
    "                while left < right and array[right] == array[right-1] : \n",
    "                    \n",
    "                    right -= 1 \n",
    "                    \n",
    "                left+=1 \n",
    "                right-=1\n",
    "                \n",
    "            elif currentsum > target : \n",
    "                \n",
    "                right -= 1 \n",
    "                \n",
    "            else : \n",
    "                \n",
    "                left += 1\n",
    "                \n",
    "        \n",
    "    return triplets \n",
    "                    \n",
    "                \n",
    "            \n",
    "            \n",
    "            \n",
    "                "
   ]
  },
  {
   "cell_type": "code",
   "execution_count": 26,
   "id": "funny-aruba",
   "metadata": {},
   "outputs": [
    {
     "name": "stdout",
     "output_type": "stream",
     "text": [
      "[[-8, 2, 6], [-8, 3, 5], [-6, 1, 5]]\n",
      "[[-1, -1, 2], [-1, 0, 1]]\n"
     ]
    }
   ],
   "source": [
    "if __name__==\"__main__\" : \n",
    "    \n",
    "    distinctarray = [12, 3, 1, 2, -6, 5, -8, 6]\n",
    "    \n",
    "    repeated_values_in_array = [-1,0,1,2,-1,-4]   \n",
    "    \n",
    "    target = 0 \n",
    "    \n",
    "    distinct_answer = threenumbersum(distinctarray,target)\n",
    "    \n",
    "    print(distinct_answer)\n",
    "    \n",
    "    repeated_answer = repeated_threenumbersum(repeated_values_in_array,target)\n",
    "    \n",
    "    print(repeated_answer)\n",
    "    \n",
    "    "
   ]
  },
  {
   "cell_type": "code",
   "execution_count": null,
   "id": "pending-anaheim",
   "metadata": {},
   "outputs": [],
   "source": []
  }
 ],
 "metadata": {
  "kernelspec": {
   "display_name": "Python 3",
   "language": "python",
   "name": "python3"
  },
  "language_info": {
   "codemirror_mode": {
    "name": "ipython",
    "version": 3
   },
   "file_extension": ".py",
   "mimetype": "text/x-python",
   "name": "python",
   "nbconvert_exporter": "python",
   "pygments_lexer": "ipython3",
   "version": "3.7.9"
  }
 },
 "nbformat": 4,
 "nbformat_minor": 5
}
