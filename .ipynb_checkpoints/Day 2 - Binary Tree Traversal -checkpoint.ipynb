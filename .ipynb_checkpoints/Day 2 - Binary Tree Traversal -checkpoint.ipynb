{
 "cells": [
  {
   "cell_type": "code",
   "execution_count": 7,
   "metadata": {},
   "outputs": [],
   "source": [
    "class Node : \n",
    "    \n",
    "    def __init__(self,value) : \n",
    "        \n",
    "        self.value = value \n",
    "        self.left = None\n",
    "        self.right = None\n",
    "\n",
    "\n",
    "def inorder(tree,result) : \n",
    "    \n",
    "    if tree is None : \n",
    "        return \n",
    "    \n",
    "    inorder(tree.left,result) \n",
    "    result.append(tree.value)\n",
    "    inorder(tree.right,result) \n",
    "    \n",
    "    return result\n",
    "    \n",
    "    \n",
    "def postorder(tree,result) : \n",
    "    \n",
    "    if tree is None : \n",
    "        return \n",
    "    \n",
    "    postorder(tree.left,result) \n",
    "    postorder(tree.right,result)\n",
    "    result.append(tree.value)\n",
    "    \n",
    "    return result \n",
    "     \n",
    "    \n",
    "def preorder(tree,result) : \n",
    "    \n",
    "    if tree is None : \n",
    "        \n",
    "        return \n",
    "    \n",
    "    result.append(tree.value)\n",
    "    preorder(tree.left,result) \n",
    "    preorder(tree.right,result)\n",
    "    \n",
    "    return result\n",
    "    "
   ]
  },
  {
   "cell_type": "code",
   "execution_count": 8,
   "metadata": {},
   "outputs": [
    {
     "name": "stdout",
     "output_type": "stream",
     "text": [
      "[6, 4, 7, 2, 5, 1, 8, 3, 9]\n",
      "[6, 7, 4, 5, 2, 8, 9, 3, 1]\n",
      "[1, 2, 4, 6, 7, 5, 3, 8, 9]\n"
     ]
    }
   ],
   "source": [
    "if __name__ == \"__main__\" : \n",
    "    \n",
    "    root = Node(1) \n",
    "    root.left = Node(2)\n",
    "    root.right = Node(3)\n",
    "    root.left.left = Node(4)\n",
    "    root.left.right = Node(5)\n",
    "    root.left.left.left = Node(6)\n",
    "    root.left.left.right = Node(7)\n",
    "    root.right.left = Node(8)\n",
    "    root.right.right = Node(9)\n",
    "    \n",
    "    inorder_traversal = inorder(root,[])\n",
    "    \n",
    "    print(inorder_traversal)\n",
    "    \n",
    "    post_order_traversal = postorder(root,[]) \n",
    "    \n",
    "    print(post_order_traversal)\n",
    "    \n",
    "    preorder_traversal = preorder(root,[])\n",
    "    \n",
    "    print(preorder_traversal)"
   ]
  },
  {
   "cell_type": "code",
   "execution_count": null,
   "metadata": {},
   "outputs": [],
   "source": []
  }
 ],
 "metadata": {
  "kernelspec": {
   "display_name": "Python 3",
   "language": "python",
   "name": "python3"
  },
  "language_info": {
   "codemirror_mode": {
    "name": "ipython",
    "version": 3
   },
   "file_extension": ".py",
   "mimetype": "text/x-python",
   "name": "python",
   "nbconvert_exporter": "python",
   "pygments_lexer": "ipython3",
   "version": "3.8.5"
  }
 },
 "nbformat": 4,
 "nbformat_minor": 4
}
