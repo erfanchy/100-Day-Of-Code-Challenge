{
 "cells": [
  {
   "cell_type": "markdown",
   "id": "separate-perth",
   "metadata": {},
   "source": [
    "# Recursive Method "
   ]
  },
  {
   "cell_type": "code",
   "execution_count": 13,
   "id": "advisory-start",
   "metadata": {},
   "outputs": [],
   "source": [
    "#Time | O(n)\n",
    "#Space | O(d) where d is the height of the tree\n",
    "\n",
    "class Node : \n",
    "    \n",
    "    def __init__(self,value) : \n",
    "        \n",
    "        self.value = value \n",
    "        self.right = None \n",
    "        self.left = None \n",
    "        \n",
    "\n",
    "\n",
    "def inverted_tree(root) : \n",
    "    \n",
    "    if root is None : \n",
    "        \n",
    "        return \n",
    "    \n",
    "    root.left,root.right = root.right,root.left \n",
    "    \n",
    "    inverted_tree(root.left)\n",
    "    inverted_tree(root.right)\n",
    "        \n",
    "    return root\n",
    "        \n",
    "def display(root,result) : \n",
    "    \n",
    "    #LVR display \n",
    "    \n",
    "    if root is None : \n",
    "        return \n",
    "    \n",
    "    display(root.left,result) \n",
    "    result.append(root.value) \n",
    "    display(root.right,result)\n",
    "    \n",
    "    return result\n",
    "    \n",
    "    \n",
    "    "
   ]
  },
  {
   "cell_type": "code",
   "execution_count": 14,
   "id": "employed-sally",
   "metadata": {},
   "outputs": [
    {
     "name": "stdout",
     "output_type": "stream",
     "text": [
      "Original Tree\n",
      "[8, 4, 9, 2, 5, 1, 6, 3, 7]\n",
      "Inverted Tree\n",
      "[7, 3, 6, 1, 5, 2, 9, 4, 8]\n"
     ]
    }
   ],
   "source": [
    "if __name__==\"__main__\" : \n",
    "    \n",
    "    root = Node(1)\n",
    "    root.left = Node(2)\n",
    "    root.right = Node(3)\n",
    "    root.left.left = Node(4)\n",
    "    root.left.right = Node(5)\n",
    "    root.right.left = Node(6)\n",
    "    root.right.right = Node(7)\n",
    "    root.left.left.left = Node(8) \n",
    "    root.left.left.right = Node(9)\n",
    "    \n",
    "    \n",
    "    print(\"Original Tree\")\n",
    "    lvr = display(root,[])\n",
    "    print(lvr)\n",
    "    \n",
    "    invert_tree = inverted_tree(root)\n",
    "    print(\"Inverted Tree\")\n",
    "    lvr_inverted = display(invert_tree,[])\n",
    "    print(lvr_inverted)\n",
    "    \n",
    "    "
   ]
  },
  {
   "cell_type": "code",
   "execution_count": null,
   "id": "defensive-activity",
   "metadata": {},
   "outputs": [],
   "source": []
  }
 ],
 "metadata": {
  "kernelspec": {
   "display_name": "Python 3",
   "language": "python",
   "name": "python3"
  },
  "language_info": {
   "codemirror_mode": {
    "name": "ipython",
    "version": 3
   },
   "file_extension": ".py",
   "mimetype": "text/x-python",
   "name": "python",
   "nbconvert_exporter": "python",
   "pygments_lexer": "ipython3",
   "version": "3.7.9"
  }
 },
 "nbformat": 4,
 "nbformat_minor": 5
}
